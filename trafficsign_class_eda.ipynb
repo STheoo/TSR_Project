{
 "cells": [
  {
   "cell_type": "markdown",
   "id": "5f2901eb",
   "metadata": {},
   "source": [
    "## Plot Class Distribution"
   ]
  },
  {
   "cell_type": "code",
   "execution_count": null,
   "id": "3f285e2c-c15c-4dae-a2c9-97f164601c24",
   "metadata": {},
   "outputs": [],
   "source": [
    "import os\n",
    "import matplotlib.pyplot as plt\n",
    "\n",
    "def plot_class_counts(dataset_dir):\n",
    "    class_counts = {}\n",
    "    \n",
    "    for class_folder in os.listdir(dataset_dir):\n",
    "        class_path = os.path.join(dataset_dir, class_folder)\n",
    "        if os.path.isdir(class_path):\n",
    "            class_number = int(class_folder)\n",
    "            trainset_num_files = len(os.listdir(class_path))\n",
    "            class_counts[class_number] = trainset_num_files\n",
    "\n",
    "    sorted_class_counts = dict(sorted(class_counts.items()))\n",
    "\n",
    "    class_counts = dict(sorted(class_counts.items(), key=lambda item: item[1], reverse=True))\n",
    "\n",
    "    plt.figure(figsize=(8, 4))\n",
    "    plt.bar(class_counts.keys(), class_counts.values(), color='turquoise')\n",
    "    plt.xlabel('Class')\n",
    "    plt.ylabel('Number of Files')\n",
    "    plt.title('Number of Files in Each Class')\n",
    "    plt.show()\n",
    "\n",
    "trainset_dir = \".\\\\Train\"\n",
    "plot_class_counts(trainset_dir)"
   ]
  },
  {
   "cell_type": "markdown",
   "id": "ae87f34f",
   "metadata": {},
   "source": [
    "## Image Augmentation to even out distribution"
   ]
  },
  {
   "cell_type": "code",
   "execution_count": null,
   "id": "df4fb93a-b0d5-4272-8bdf-049886f744a2",
   "metadata": {},
   "outputs": [],
   "source": [
    "import numpy as np\n",
    "from tensorflow.keras.preprocessing.image import ImageDataGenerator, load_img, img_to_array\n",
    "\n",
    "output_dir = \".\\\\Train_Augmented\"\n",
    "\n",
    "os.makedirs(output_dir, exist_ok=True)\n",
    "\n",
    "datagen = ImageDataGenerator(\n",
    "    rotation_range=20,\n",
    "    width_shift_range=0.2,\n",
    "    height_shift_range=0.2,\n",
    "    shear_range=0.2,\n",
    "    zoom_range=0.2,\n",
    "    brightness_range=[0.5, 1.5] \n",
    ")\n",
    "\n",
    "def augment_and_save_image(image_path, output_dir, prefix, num_augmented):\n",
    "    img = load_img(image_path)\n",
    "    img_array = img_to_array(img)\n",
    "    img_array = img_array.reshape((1,) + img_array.shape)\n",
    "\n",
    "    i = 0\n",
    "    for batch in datagen.flow(img_array, batch_size=1, save_to_dir=output_dir, save_prefix=prefix, save_format='jpg'):\n",
    "        i += 1\n",
    "        if i >= num_augmented:\n",
    "            break\n",
    "\n",
    "for class_folder in os.listdir(trainset_dir):\n",
    "    class_path = os.path.join(trainset_dir, class_folder)\n",
    "    if os.path.isdir(class_path):\n",
    "        output_class_dir = os.path.join(output_dir, class_folder)\n",
    "        os.makedirs(output_class_dir, exist_ok=True)\n",
    "        num_files = len(os.listdir(output_class_dir))\n",
    "        if num_files < 1000:\n",
    "            for filename in os.listdir(class_path):\n",
    "                if filename.endswith(\".jpg\") or filename.endswith(\".jpeg\") or filename.endswith(\".png\"):\n",
    "                    image_path = os.path.join(class_path, filename)\n",
    "                    trainset_num_files = len(os.listdir(class_path))\n",
    "                    num_augmented = int(2000 / trainset_num_files)\n",
    "                    augment_and_save_image(image_path, output_class_dir, filename.split('.')[0], num_augmented)"
   ]
  },
  {
   "cell_type": "markdown",
   "id": "38fe53ba",
   "metadata": {},
   "source": [
    "## Plot new Class Distribution"
   ]
  },
  {
   "cell_type": "code",
   "execution_count": null,
   "id": "bbe55dab-0a12-4bfd-aeb9-ca10692c9e0d",
   "metadata": {},
   "outputs": [],
   "source": [
    "output_dir = \".\\\\Train_Augmented\"\n",
    "plot_class_counts(output_dir)"
   ]
  }
 ],
 "metadata": {
  "kernelspec": {
   "display_name": "Python 3 (ipykernel)",
   "language": "python",
   "name": "python3"
  },
  "language_info": {
   "codemirror_mode": {
    "name": "ipython",
    "version": 3
   },
   "file_extension": ".py",
   "mimetype": "text/x-python",
   "name": "python",
   "nbconvert_exporter": "python",
   "pygments_lexer": "ipython3",
   "version": "3.11.7"
  }
 },
 "nbformat": 4,
 "nbformat_minor": 5
}
