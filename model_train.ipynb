{
 "cells": [
  {
   "cell_type": "markdown",
   "metadata": {},
   "source": [
    "## Check for GPU"
   ]
  },
  {
   "cell_type": "code",
   "execution_count": 1,
   "metadata": {
    "colab": {
     "base_uri": "https://localhost:8080/"
    },
    "id": "u1hxcQHjOqZw",
    "outputId": "0490321d-bead-48f4-9b5b-82ff6bfed8cd"
   },
   "outputs": [
    {
     "name": "stdout",
     "output_type": "stream",
     "text": [
      "Sat May  4 15:38:02 2024       \n",
      "+---------------------------------------------------------------------------------------+\n",
      "| NVIDIA-SMI 535.104.05             Driver Version: 535.104.05   CUDA Version: 12.2     |\n",
      "|-----------------------------------------+----------------------+----------------------+\n",
      "| GPU  Name                 Persistence-M | Bus-Id        Disp.A | Volatile Uncorr. ECC |\n",
      "| Fan  Temp   Perf          Pwr:Usage/Cap |         Memory-Usage | GPU-Util  Compute M. |\n",
      "|                                         |                      |               MIG M. |\n",
      "|=========================================+======================+======================|\n",
      "|   0  Tesla T4                       Off | 00000000:00:04.0 Off |                    0 |\n",
      "| N/A   48C    P8              10W /  70W |      0MiB / 15360MiB |      0%      Default |\n",
      "|                                         |                      |                  N/A |\n",
      "+-----------------------------------------+----------------------+----------------------+\n",
      "                                                                                         \n",
      "+---------------------------------------------------------------------------------------+\n",
      "| Processes:                                                                            |\n",
      "|  GPU   GI   CI        PID   Type   Process name                            GPU Memory |\n",
      "|        ID   ID                                                             Usage      |\n",
      "|=======================================================================================|\n",
      "|  No running processes found                                                           |\n",
      "+---------------------------------------------------------------------------------------+\n"
     ]
    }
   ],
   "source": [
    "!nvidia-smi"
   ]
  },
  {
   "cell_type": "code",
   "execution_count": 2,
   "metadata": {
    "colab": {
     "base_uri": "https://localhost:8080/"
    },
    "id": "FTi3wsEqOrOx",
    "outputId": "884f4041-4941-4479-9a6c-f54d9e0cf647"
   },
   "outputs": [
    {
     "name": "stdout",
     "output_type": "stream",
     "text": [
      "/content\n"
     ]
    }
   ],
   "source": [
    "import os\n",
    "HOME = os.getcwd()\n",
    "print(HOME)"
   ]
  },
  {
   "cell_type": "markdown",
   "metadata": {},
   "source": [
    "## Install YOLOv9 Library"
   ]
  },
  {
   "cell_type": "code",
   "execution_count": 3,
   "metadata": {
    "colab": {
     "base_uri": "https://localhost:8080/"
    },
    "id": "k30EKRRDOrTU",
    "outputId": "1308e53d-0e93-4de2-e663-6bce2f2d7d15"
   },
   "outputs": [
    {
     "name": "stdout",
     "output_type": "stream",
     "text": [
      "Cloning into 'yolov9'...\n",
      "remote: Enumerating objects: 325, done.\u001b[K\n",
      "remote: Counting objects: 100% (216/216), done.\u001b[K\n",
      "remote: Compressing objects: 100% (61/61), done.\u001b[K\n",
      "remote: Total 325 (delta 158), reused 155 (delta 155), pack-reused 109\u001b[K\n",
      "Receiving objects: 100% (325/325), 2.23 MiB | 20.25 MiB/s, done.\n",
      "Resolving deltas: 100% (165/165), done.\n",
      "/content/yolov9\n",
      "\u001b[2K     \u001b[90m━━━━━━━━━━━━━━━━━━━━━━━━━━━━━━━━━━━━━━━━\u001b[0m \u001b[32m207.3/207.3 kB\u001b[0m \u001b[31m5.6 MB/s\u001b[0m eta \u001b[36m0:00:00\u001b[0m\n",
      "\u001b[2K     \u001b[90m━━━━━━━━━━━━━━━━━━━━━━━━━━━━━━━━━━━━━━━━\u001b[0m \u001b[32m62.7/62.7 kB\u001b[0m \u001b[31m8.3 MB/s\u001b[0m eta \u001b[36m0:00:00\u001b[0m\n",
      "\u001b[2K     \u001b[90m━━━━━━━━━━━━━━━━━━━━━━━━━━━━━━━━━━━━━━━━\u001b[0m \u001b[32m1.6/1.6 MB\u001b[0m \u001b[31m17.0 MB/s\u001b[0m eta \u001b[36m0:00:00\u001b[0m\n",
      "\u001b[?25h"
     ]
    }
   ],
   "source": [
    "!git clone https://github.com/SkalskiP/yolov9.git\n",
    "%cd yolov9\n",
    "!pip install -r requirements.txt -q"
   ]
  },
  {
   "cell_type": "code",
   "execution_count": 4,
   "metadata": {
    "colab": {
     "base_uri": "https://localhost:8080/"
    },
    "id": "pAQJw7XPOrVu",
    "outputId": "46551c55-e46c-408d-9b2d-58857ae3de4c"
   },
   "outputs": [
    {
     "name": "stdout",
     "output_type": "stream",
     "text": [
      "\u001b[2K     \u001b[90m━━━━━━━━━━━━━━━━━━━━━━━━━━━━━━━━━━━━━━━━\u001b[0m \u001b[32m74.6/74.6 kB\u001b[0m \u001b[31m2.5 MB/s\u001b[0m eta \u001b[36m0:00:00\u001b[0m\n",
      "\u001b[2K     \u001b[90m━━━━━━━━━━━━━━━━━━━━━━━━━━━━━━━━━━━━━━━━\u001b[0m \u001b[32m158.3/158.3 kB\u001b[0m \u001b[31m7.9 MB/s\u001b[0m eta \u001b[36m0:00:00\u001b[0m\n",
      "\u001b[2K     \u001b[90m━━━━━━━━━━━━━━━━━━━━━━━━━━━━━━━━━━━━━━━━\u001b[0m \u001b[32m178.7/178.7 kB\u001b[0m \u001b[31m11.2 MB/s\u001b[0m eta \u001b[36m0:00:00\u001b[0m\n",
      "\u001b[2K     \u001b[90m━━━━━━━━━━━━━━━━━━━━━━━━━━━━━━━━━━━━━━━━\u001b[0m \u001b[32m58.8/58.8 kB\u001b[0m \u001b[31m7.0 MB/s\u001b[0m eta \u001b[36m0:00:00\u001b[0m\n",
      "\u001b[2K     \u001b[90m━━━━━━━━━━━━━━━━━━━━━━━━━━━━━━━━━━━━━━━━\u001b[0m \u001b[32m49.1/49.1 MB\u001b[0m \u001b[31m10.6 MB/s\u001b[0m eta \u001b[36m0:00:00\u001b[0m\n",
      "\u001b[2K     \u001b[90m━━━━━━━━━━━━━━━━━━━━━━━━━━━━━━━━━━━━━━━━\u001b[0m \u001b[32m54.5/54.5 kB\u001b[0m \u001b[31m6.5 MB/s\u001b[0m eta \u001b[36m0:00:00\u001b[0m\n",
      "\u001b[?25h"
     ]
    }
   ],
   "source": [
    "!pip install -q roboflow"
   ]
  },
  {
   "cell_type": "code",
   "execution_count": 5,
   "metadata": {
    "id": "rQdOFRjMP_lC"
   },
   "outputs": [],
   "source": [
    "!wget -P {HOME}/weights -q https://github.com/WongKinYiu/yolov9/releases/download/v0.1/yolov9-c.pt\n",
    "!wget -P {HOME}/weights -q https://github.com/WongKinYiu/yolov9/releases/download/v0.1/yolov9-e.pt\n",
    "!wget -P {HOME}/weights -q https://github.com/WongKinYiu/yolov9/releases/download/v0.1/gelan-c.pt\n",
    "!wget -P {HOME}/weights -q https://github.com/WongKinYiu/yolov9/releases/download/v0.1/gelan-e.pt"
   ]
  },
  {
   "cell_type": "code",
   "execution_count": 6,
   "metadata": {
    "colab": {
     "base_uri": "https://localhost:8080/"
    },
    "id": "V0FHTr5APd73",
    "outputId": "b7c5dfc5-f7c5-409f-a171-1494ae847199"
   },
   "outputs": [
    {
     "name": "stdout",
     "output_type": "stream",
     "text": [
      "/content/yolov9\n"
     ]
    }
   ],
   "source": [
    "%cd {HOME}/yolov9"
   ]
  },
  {
   "cell_type": "markdown",
   "metadata": {},
   "source": [
    "## Import annotated dataset from Roboflow using API"
   ]
  },
  {
   "cell_type": "code",
   "execution_count": 7,
   "metadata": {
    "colab": {
     "base_uri": "https://localhost:8080/"
    },
    "id": "N0z_PmEHPnlp",
    "outputId": "0e1b3f8e-c1f8-4c38-f472-153df7caa7e9"
   },
   "outputs": [
    {
     "name": "stdout",
     "output_type": "stream",
     "text": [
      "loading Roboflow workspace...\n",
      "loading Roboflow project...\n"
     ]
    },
    {
     "name": "stderr",
     "output_type": "stream",
     "text": [
      "Downloading Dataset Version Zip in TSR-7 to yolov9:: 100%|██████████| 188143/188143 [00:06<00:00, 29831.14it/s]"
     ]
    },
    {
     "name": "stdout",
     "output_type": "stream",
     "text": [
      "\n"
     ]
    },
    {
     "name": "stderr",
     "output_type": "stream",
     "text": [
      "\n",
      "Extracting Dataset Version Zip to TSR-7 in yolov9:: 100%|██████████| 14192/14192 [00:02<00:00, 6845.43it/s]\n"
     ]
    }
   ],
   "source": [
    "from roboflow import Roboflow\n",
    "from config import API_KEY\n",
    "\n",
    "rf = Roboflow(api_key=API_KEY)\n",
    "project = rf.workspace(\"tsr-9hubk\").project(\"tsr-ll0yv\")\n",
    "version = project.version(7)\n",
    "dataset = version.download(\"yolov9\")\n"
   ]
  },
  {
   "cell_type": "markdown",
   "metadata": {},
   "source": [
    "## Train on custom dataset using YOLOv9"
   ]
  },
  {
   "cell_type": "code",
   "execution_count": 8,
   "metadata": {
    "colab": {
     "base_uri": "https://localhost:8080/"
    },
    "id": "XwoUFFMfP5Q-",
    "outputId": "5caf9a91-97d8-4703-9e0b-eaeb3b774f05"
   },
   "outputs": [
    {
     "name": "stdout",
     "output_type": "stream",
     "text": [
      "/content/yolov9\n",
      "2024-05-04 15:39:50.364950: E external/local_xla/xla/stream_executor/cuda/cuda_dnn.cc:9261] Unable to register cuDNN factory: Attempting to register factory for plugin cuDNN when one has already been registered\n",
      "2024-05-04 15:39:50.365001: E external/local_xla/xla/stream_executor/cuda/cuda_fft.cc:607] Unable to register cuFFT factory: Attempting to register factory for plugin cuFFT when one has already been registered\n",
      "2024-05-04 15:39:50.366496: E external/local_xla/xla/stream_executor/cuda/cuda_blas.cc:1515] Unable to register cuBLAS factory: Attempting to register factory for plugin cuBLAS when one has already been registered\n",
      "2024-05-04 15:39:51.435837: W tensorflow/compiler/tf2tensorrt/utils/py_utils.cc:38] TF-TRT Warning: Could not find TensorRT\n",
      "\u001b[34m\u001b[1mtrain: \u001b[0mweights=/content/weights/gelan-c.pt, cfg=models/detect/gelan-c.yaml, data=/content/yolov9/TSR-7/data.yaml, hyp=hyp.scratch-high.yaml, epochs=25, batch_size=16, imgsz=640, rect=False, resume=False, nosave=False, noval=False, noautoanchor=False, noplots=False, evolve=None, bucket=, cache=None, image_weights=False, device=0, multi_scale=False, single_cls=False, optimizer=SGD, sync_bn=False, workers=8, project=runs/train, name=exp, exist_ok=False, quad=False, cos_lr=False, flat_cos_lr=False, fixed_lr=False, label_smoothing=0.0, patience=100, freeze=[0], save_period=-1, seed=0, local_rank=-1, min_items=0, close_mosaic=15, entity=None, upload_dataset=False, bbox_interval=-1, artifact_alias=latest\n",
      "YOLOv5 🚀 1e33dbb Python-3.10.12 torch-2.2.1+cu121 CUDA:0 (Tesla T4, 15102MiB)\n",
      "\n",
      "\u001b[34m\u001b[1mhyperparameters: \u001b[0mlr0=0.01, lrf=0.01, momentum=0.937, weight_decay=0.0005, warmup_epochs=3.0, warmup_momentum=0.8, warmup_bias_lr=0.1, box=7.5, cls=0.5, cls_pw=1.0, dfl=1.5, obj_pw=1.0, iou_t=0.2, anchor_t=5.0, fl_gamma=0.0, hsv_h=0.015, hsv_s=0.7, hsv_v=0.4, degrees=0.0, translate=0.1, scale=0.9, shear=0.0, perspective=0.0, flipud=0.0, fliplr=0.5, mosaic=1.0, mixup=0.15, copy_paste=0.3\n",
      "\u001b[34m\u001b[1mClearML: \u001b[0mrun 'pip install clearml' to automatically track, visualize and remotely train YOLO 🚀 in ClearML\n",
      "\u001b[34m\u001b[1mComet: \u001b[0mrun 'pip install comet_ml' to automatically track and visualize YOLO 🚀 runs in Comet\n",
      "\u001b[34m\u001b[1mTensorBoard: \u001b[0mStart with 'tensorboard --logdir runs/train', view at http://localhost:6006/\n",
      "Downloading https://ultralytics.com/assets/Arial.ttf to /root/.config/Ultralytics/Arial.ttf...\n",
      "100% 755k/755k [00:00<00:00, 27.7MB/s]\n",
      "Overriding model.yaml nc=80 with nc=43\n",
      "\n",
      "                 from  n    params  module                                  arguments                     \n",
      "  0                -1  1      1856  models.common.Conv                      [3, 64, 3, 2]                 \n",
      "  1                -1  1     73984  models.common.Conv                      [64, 128, 3, 2]               \n",
      "  2                -1  1    212864  models.common.RepNCSPELAN4              [128, 256, 128, 64, 1]        \n",
      "  3                -1  1    164352  models.common.ADown                     [256, 256]                    \n",
      "  4                -1  1    847616  models.common.RepNCSPELAN4              [256, 512, 256, 128, 1]       \n",
      "  5                -1  1    656384  models.common.ADown                     [512, 512]                    \n",
      "  6                -1  1   2857472  models.common.RepNCSPELAN4              [512, 512, 512, 256, 1]       \n",
      "  7                -1  1    656384  models.common.ADown                     [512, 512]                    \n",
      "  8                -1  1   2857472  models.common.RepNCSPELAN4              [512, 512, 512, 256, 1]       \n",
      "  9                -1  1    656896  models.common.SPPELAN                   [512, 512, 256]               \n",
      " 10                -1  1         0  torch.nn.modules.upsampling.Upsample    [None, 2, 'nearest']          \n",
      " 11           [-1, 6]  1         0  models.common.Concat                    [1]                           \n",
      " 12                -1  1   3119616  models.common.RepNCSPELAN4              [1024, 512, 512, 256, 1]      \n",
      " 13                -1  1         0  torch.nn.modules.upsampling.Upsample    [None, 2, 'nearest']          \n",
      " 14           [-1, 4]  1         0  models.common.Concat                    [1]                           \n",
      " 15                -1  1    912640  models.common.RepNCSPELAN4              [1024, 256, 256, 128, 1]      \n",
      " 16                -1  1    164352  models.common.ADown                     [256, 256]                    \n",
      " 17          [-1, 12]  1         0  models.common.Concat                    [1]                           \n",
      " 18                -1  1   2988544  models.common.RepNCSPELAN4              [768, 512, 512, 256, 1]       \n",
      " 19                -1  1    656384  models.common.ADown                     [512, 512]                    \n",
      " 20           [-1, 9]  1         0  models.common.Concat                    [1]                           \n",
      " 21                -1  1   3119616  models.common.RepNCSPELAN4              [1024, 512, 512, 256, 1]      \n",
      " 22      [15, 18, 21]  1   5523793  models.yolo.DDetect                     [43, [256, 512, 512]]         \n",
      "gelan-c summary: 621 layers, 25470225 parameters, 25470209 gradients, 103.3 GFLOPs\n",
      "\n",
      "Transferred 931/937 items from /content/weights/gelan-c.pt\n",
      "\u001b[34m\u001b[1mAMP: \u001b[0mchecks passed ✅\n",
      "\u001b[34m\u001b[1moptimizer:\u001b[0m SGD(lr=0.01) with parameter groups 154 weight(decay=0.0), 161 weight(decay=0.0005), 160 bias\n",
      "\u001b[34m\u001b[1malbumentations: \u001b[0mBlur(p=0.01, blur_limit=(3, 7)), MedianBlur(p=0.01, blur_limit=(3, 7)), ToGray(p=0.01), CLAHE(p=0.01, clip_limit=(1, 4.0), tile_grid_size=(8, 8))\n",
      "/usr/lib/python3.10/multiprocessing/popen_fork.py:66: RuntimeWarning: os.fork() was called. os.fork() is incompatible with multithreaded code, and JAX is multithreaded, so this will likely lead to a deadlock.\n",
      "  self.pid = os.fork()\n",
      "\u001b[34m\u001b[1mtrain: \u001b[0mScanning /content/yolov9/TSR-7/train/labels... 6243 images, 219 backgrounds, 0 corrupt: 100% 6243/6243 [00:03<00:00, 1868.06it/s]\n",
      "\u001b[34m\u001b[1mtrain: \u001b[0mNew cache created: /content/yolov9/TSR-7/train/labels.cache\n",
      "\u001b[34m\u001b[1mval: \u001b[0mScanning /content/yolov9/TSR-7/valid/labels... 482 images, 10 backgrounds, 0 corrupt: 100% 482/482 [00:00<00:00, 1729.22it/s]\n",
      "\u001b[34m\u001b[1mval: \u001b[0mNew cache created: /content/yolov9/TSR-7/valid/labels.cache\n",
      "Plotting labels to runs/train/exp/labels.jpg... \n",
      "Image sizes 640 train, 640 val\n",
      "Using 2 dataloader workers\n",
      "Logging results to \u001b[1mruns/train/exp\u001b[0m\n",
      "Starting training for 25 epochs...\n",
      "/usr/lib/python3.10/multiprocessing/popen_fork.py:66: RuntimeWarning: os.fork() was called. os.fork() is incompatible with multithreaded code, and JAX is multithreaded, so this will likely lead to a deadlock.\n",
      "  self.pid = os.fork()\n",
      "\n",
      "      Epoch    GPU_mem   box_loss   cls_loss   dfl_loss  Instances       Size\n",
      "       0/24      11.1G     0.9957      3.512       1.44         11        640: 100% 391/391 [05:27<00:00,  1.19it/s]\n",
      "                 Class     Images  Instances          P          R      mAP50   mAP50-95: 100% 16/16 [00:12<00:00,  1.27it/s]\n",
      "                   all        482        472      0.283      0.535      0.345      0.285\n",
      "/usr/lib/python3.10/multiprocessing/popen_fork.py:66: RuntimeWarning: os.fork() was called. os.fork() is incompatible with multithreaded code, and JAX is multithreaded, so this will likely lead to a deadlock.\n",
      "  self.pid = os.fork()\n",
      "\n",
      "      Epoch    GPU_mem   box_loss   cls_loss   dfl_loss  Instances       Size\n",
      "       1/24      13.2G      0.853      2.147      1.287          6        640: 100% 391/391 [05:10<00:00,  1.26it/s]\n",
      "                 Class     Images  Instances          P          R      mAP50   mAP50-95: 100% 16/16 [00:11<00:00,  1.44it/s]\n",
      "                   all        482        472      0.451      0.676      0.628      0.513\n",
      "\n",
      "      Epoch    GPU_mem   box_loss   cls_loss   dfl_loss  Instances       Size\n",
      "       2/24      13.2G     0.9021      1.882      1.306          7        640: 100% 391/391 [05:06<00:00,  1.27it/s]\n",
      "                 Class     Images  Instances          P          R      mAP50   mAP50-95: 100% 16/16 [00:11<00:00,  1.43it/s]\n",
      "                   all        482        472      0.636      0.705      0.721      0.597\n",
      "\n",
      "      Epoch    GPU_mem   box_loss   cls_loss   dfl_loss  Instances       Size\n",
      "       3/24      13.2G     0.9467      1.795      1.327         15        640: 100% 391/391 [05:05<00:00,  1.28it/s]\n",
      "                 Class     Images  Instances          P          R      mAP50   mAP50-95: 100% 16/16 [00:11<00:00,  1.45it/s]\n",
      "                   all        482        472      0.643      0.673      0.693      0.575\n",
      "\n",
      "      Epoch    GPU_mem   box_loss   cls_loss   dfl_loss  Instances       Size\n",
      "       4/24      13.2G     0.9115      1.674       1.31          4        640: 100% 391/391 [05:04<00:00,  1.28it/s]\n",
      "                 Class     Images  Instances          P          R      mAP50   mAP50-95: 100% 16/16 [00:11<00:00,  1.45it/s]\n",
      "                   all        482        472      0.632      0.814      0.801      0.668\n",
      "\n",
      "      Epoch    GPU_mem   box_loss   cls_loss   dfl_loss  Instances       Size\n",
      "       5/24      13.2G     0.8717      1.537      1.282          7        640: 100% 391/391 [05:05<00:00,  1.28it/s]\n",
      "                 Class     Images  Instances          P          R      mAP50   mAP50-95: 100% 16/16 [00:11<00:00,  1.45it/s]\n",
      "                   all        482        472      0.746      0.814      0.872      0.745\n",
      "\n",
      "      Epoch    GPU_mem   box_loss   cls_loss   dfl_loss  Instances       Size\n",
      "       6/24      13.2G      0.838      1.401      1.247          5        640: 100% 391/391 [05:07<00:00,  1.27it/s]\n",
      "                 Class     Images  Instances          P          R      mAP50   mAP50-95: 100% 16/16 [00:11<00:00,  1.45it/s]\n",
      "                   all        482        472      0.721      0.844      0.851      0.731\n",
      "\n",
      "      Epoch    GPU_mem   box_loss   cls_loss   dfl_loss  Instances       Size\n",
      "       7/24      13.2G     0.7989      1.319      1.217         11        640: 100% 391/391 [05:03<00:00,  1.29it/s]\n",
      "                 Class     Images  Instances          P          R      mAP50   mAP50-95: 100% 16/16 [00:11<00:00,  1.45it/s]\n",
      "                   all        482        472      0.746      0.857      0.872      0.748\n",
      "\n",
      "      Epoch    GPU_mem   box_loss   cls_loss   dfl_loss  Instances       Size\n",
      "       8/24      13.2G     0.7826      1.262      1.208          5        640: 100% 391/391 [05:04<00:00,  1.28it/s]\n",
      "                 Class     Images  Instances          P          R      mAP50   mAP50-95: 100% 16/16 [00:11<00:00,  1.43it/s]\n",
      "                   all        482        472      0.792      0.885      0.914      0.796\n",
      "\n",
      "      Epoch    GPU_mem   box_loss   cls_loss   dfl_loss  Instances       Size\n",
      "       9/24      13.2G     0.7607      1.197      1.185          7        640: 100% 391/391 [05:03<00:00,  1.29it/s]\n",
      "                 Class     Images  Instances          P          R      mAP50   mAP50-95: 100% 16/16 [00:11<00:00,  1.44it/s]\n",
      "                   all        482        472      0.824      0.896      0.923      0.819\n",
      "Closing dataloader mosaic\n",
      "\n",
      "      Epoch    GPU_mem   box_loss   cls_loss   dfl_loss  Instances       Size\n",
      "      10/24      13.2G     0.5712     0.7667      1.227          3        640: 100% 391/391 [04:56<00:00,  1.32it/s]\n",
      "                 Class     Images  Instances          P          R      mAP50   mAP50-95: 100% 16/16 [00:11<00:00,  1.45it/s]\n",
      "                   all        482        472       0.82      0.914      0.925      0.811\n",
      "\n",
      "      Epoch    GPU_mem   box_loss   cls_loss   dfl_loss  Instances       Size\n",
      "      11/24      13.2G     0.5422     0.6927      1.203          2        640: 100% 391/391 [04:56<00:00,  1.32it/s]\n",
      "                 Class     Images  Instances          P          R      mAP50   mAP50-95: 100% 16/16 [00:11<00:00,  1.45it/s]\n",
      "                   all        482        472      0.853      0.923      0.941      0.828\n",
      "\n",
      "      Epoch    GPU_mem   box_loss   cls_loss   dfl_loss  Instances       Size\n",
      "      12/24      13.2G     0.5281     0.6393      1.182          3        640: 100% 391/391 [04:56<00:00,  1.32it/s]\n",
      "                 Class     Images  Instances          P          R      mAP50   mAP50-95: 100% 16/16 [00:11<00:00,  1.44it/s]\n",
      "                   all        482        472      0.827      0.911      0.939      0.825\n",
      "\n",
      "      Epoch    GPU_mem   box_loss   cls_loss   dfl_loss  Instances       Size\n",
      "      13/24      13.2G     0.5121     0.5975      1.174          3        640: 100% 391/391 [04:56<00:00,  1.32it/s]\n",
      "                 Class     Images  Instances          P          R      mAP50   mAP50-95: 100% 16/16 [00:11<00:00,  1.45it/s]\n",
      "                   all        482        472      0.877      0.917      0.964      0.854\n",
      "\n",
      "      Epoch    GPU_mem   box_loss   cls_loss   dfl_loss  Instances       Size\n",
      "      14/24      13.2G     0.4923     0.5472      1.149          2        640: 100% 391/391 [04:57<00:00,  1.32it/s]\n",
      "                 Class     Images  Instances          P          R      mAP50   mAP50-95: 100% 16/16 [00:12<00:00,  1.30it/s]\n",
      "                   all        482        472      0.865      0.918      0.953      0.837\n",
      "\n",
      "      Epoch    GPU_mem   box_loss   cls_loss   dfl_loss  Instances       Size\n",
      "      15/24      13.2G     0.4837     0.5153      1.143          3        640: 100% 391/391 [04:55<00:00,  1.32it/s]\n",
      "                 Class     Images  Instances          P          R      mAP50   mAP50-95: 100% 16/16 [00:11<00:00,  1.44it/s]\n",
      "                   all        482        472      0.887      0.934       0.96      0.851\n",
      "\n",
      "      Epoch    GPU_mem   box_loss   cls_loss   dfl_loss  Instances       Size\n",
      "      16/24      13.2G     0.4648     0.4908      1.126          3        640: 100% 391/391 [04:56<00:00,  1.32it/s]\n",
      "                 Class     Images  Instances          P          R      mAP50   mAP50-95: 100% 16/16 [00:11<00:00,  1.44it/s]\n",
      "                   all        482        472      0.915      0.935      0.974      0.864\n",
      "\n",
      "      Epoch    GPU_mem   box_loss   cls_loss   dfl_loss  Instances       Size\n",
      "      17/24      13.2G     0.4582     0.4483      1.113          3        640: 100% 391/391 [04:56<00:00,  1.32it/s]\n",
      "                 Class     Images  Instances          P          R      mAP50   mAP50-95: 100% 16/16 [00:11<00:00,  1.44it/s]\n",
      "                   all        482        472       0.91      0.924       0.97      0.872\n",
      "\n",
      "      Epoch    GPU_mem   box_loss   cls_loss   dfl_loss  Instances       Size\n",
      "      18/24      13.2G     0.4463     0.4173       1.11          3        640: 100% 391/391 [04:57<00:00,  1.31it/s]\n",
      "                 Class     Images  Instances          P          R      mAP50   mAP50-95: 100% 16/16 [00:10<00:00,  1.47it/s]\n",
      "                   all        482        472      0.915      0.943       0.97      0.873\n",
      "\n",
      "      Epoch    GPU_mem   box_loss   cls_loss   dfl_loss  Instances       Size\n",
      "      19/24      13.2G     0.4225     0.3773      1.091          3        640: 100% 391/391 [04:57<00:00,  1.32it/s]\n",
      "                 Class     Images  Instances          P          R      mAP50   mAP50-95: 100% 16/16 [00:11<00:00,  1.41it/s]\n",
      "                   all        482        472      0.941      0.954      0.978      0.881\n",
      "\n",
      "      Epoch    GPU_mem   box_loss   cls_loss   dfl_loss  Instances       Size\n",
      "      20/24      13.2G     0.4134     0.3593      1.083          3        640: 100% 391/391 [04:56<00:00,  1.32it/s]\n",
      "                 Class     Images  Instances          P          R      mAP50   mAP50-95: 100% 16/16 [00:11<00:00,  1.44it/s]\n",
      "                   all        482        472      0.907      0.956      0.974      0.882\n",
      "\n",
      "      Epoch    GPU_mem   box_loss   cls_loss   dfl_loss  Instances       Size\n",
      "      21/24      13.2G     0.3974     0.3316      1.069          3        640: 100% 391/391 [04:56<00:00,  1.32it/s]\n",
      "                 Class     Images  Instances          P          R      mAP50   mAP50-95: 100% 16/16 [00:11<00:00,  1.45it/s]\n",
      "                   all        482        472      0.928      0.951      0.975      0.884\n",
      "\n",
      "      Epoch    GPU_mem   box_loss   cls_loss   dfl_loss  Instances       Size\n",
      "      22/24      13.2G     0.3874     0.3079      1.056          3        640: 100% 391/391 [04:56<00:00,  1.32it/s]\n",
      "                 Class     Images  Instances          P          R      mAP50   mAP50-95: 100% 16/16 [00:10<00:00,  1.48it/s]\n",
      "                   all        482        472      0.941      0.933      0.977      0.879\n",
      "\n",
      "      Epoch    GPU_mem   box_loss   cls_loss   dfl_loss  Instances       Size\n",
      "      23/24      13.2G     0.3707     0.2837      1.049          3        640: 100% 391/391 [04:56<00:00,  1.32it/s]\n",
      "                 Class     Images  Instances          P          R      mAP50   mAP50-95: 100% 16/16 [00:11<00:00,  1.45it/s]\n",
      "                   all        482        472      0.936      0.948      0.977      0.887\n",
      "\n",
      "      Epoch    GPU_mem   box_loss   cls_loss   dfl_loss  Instances       Size\n",
      "      24/24      13.2G     0.3523     0.2619      1.034          3        640: 100% 391/391 [04:56<00:00,  1.32it/s]\n",
      "                 Class     Images  Instances          P          R      mAP50   mAP50-95: 100% 16/16 [00:11<00:00,  1.40it/s]\n",
      "                   all        482        472      0.945      0.945      0.979       0.89\n",
      "\n",
      "25 epochs completed in 2.188 hours.\n",
      "Optimizer stripped from runs/train/exp/weights/last.pt, saved as runs/train/exp/weights/last_striped.pt, 51.5MB\n",
      "Optimizer stripped from runs/train/exp/weights/best.pt, saved as runs/train/exp/weights/best_striped.pt, 51.5MB\n",
      "\n",
      "Validating runs/train/exp/weights/best.pt...\n",
      "Fusing layers... \n",
      "gelan-c summary: 467 layers, 25444113 parameters, 0 gradients, 102.7 GFLOPs\n",
      "                 Class     Images  Instances          P          R      mAP50   mAP50-95: 100% 16/16 [00:13<00:00,  1.18it/s]\n",
      "                   all        482        472      0.945      0.945      0.979      0.889\n",
      "            Ahead only        482          8      0.977          1      0.995      0.918\n",
      "    Beware of ice-snow        482         10      0.894          1      0.995       0.92\n",
      "     Bicycles crossing        482         13      0.985          1      0.995      0.908\n",
      "            Bumpy road        482          9       0.98          1      0.995      0.935\n",
      "     Children crossing        482         15          1      0.943      0.995      0.879\n",
      "Dangerous curve to the left        482         12      0.845          1       0.95      0.844\n",
      "Dangerous curve to the right        482         14      0.996      0.929      0.972      0.837\n",
      "          Double curve        482         17      0.995          1      0.995      0.917\n",
      "End of all speed and passing limits        482         10      0.902      0.922       0.95      0.916\n",
      "     End of no passing        482          9       0.99      0.778      0.973      0.867\n",
      "End of no passing by vehicles over 3.5 metric tons        482         14      0.981          1      0.995      0.911\n",
      "End of speed limit -80 km-h-        482         13          1      0.982      0.995      0.893\n",
      "       General caution        482          8          1      0.908      0.995      0.921\n",
      "   Go straight or left        482         11      0.938      0.818       0.95      0.782\n",
      "  Go straight or right        482         13      0.868      0.769      0.953       0.91\n",
      "             Keep left        482         11       0.88      0.909      0.927      0.846\n",
      "            Keep right        482         16      0.929      0.875      0.941       0.77\n",
      "              No entry        482          6      0.968          1      0.995      0.887\n",
      "            No passing        482         11          1      0.913      0.995      0.924\n",
      "No passing for vehicles over 3.5 metric tons        482         11      0.985          1      0.995      0.921\n",
      "           No vehicles        482         10      0.832          1      0.995      0.877\n",
      "           Pedestrians        482         16      0.988          1      0.995      0.915\n",
      "         Priority road        482         13      0.919          1      0.962      0.813\n",
      "Right-of-way at the next intersection        482         11      0.983          1      0.995      0.905\n",
      "Road narrows on the right        482          9      0.978          1      0.995      0.946\n",
      "             Road work        482          7      0.978          1      0.995      0.939\n",
      "  Roundabout mandatory        482          7      0.971          1      0.995       0.96\n",
      "         Slippery road        482          4      0.906          1      0.995      0.888\n",
      "Speed limit -100 km-h-        482          5      0.807      0.844      0.928      0.836\n",
      "Speed limit -120 km-h-        482          8      0.904          1      0.995       0.89\n",
      " Speed limit -20 km-h-        482         17      0.988          1      0.995      0.946\n",
      " Speed limit -30 km-h-        482         10      0.974          1      0.995      0.902\n",
      " Speed limit -50 km-h-        482         12          1       0.95      0.995      0.887\n",
      " Speed limit -60 km-h-        482          7      0.838          1      0.995      0.885\n",
      " Speed limit -70 km-h-        482         10          1      0.839      0.986       0.91\n",
      " Speed limit -80 km-h-        482         10          1      0.584      0.972      0.848\n",
      "                  Stop        482          9      0.888          1      0.995      0.939\n",
      "       Traffic signals        482         15      0.995          1      0.995      0.898\n",
      "       Turn left ahead        482         18      0.934      0.792      0.924      0.864\n",
      "      Turn right ahead        482          8      0.838      0.875      0.928      0.831\n",
      "Vehicles over 3.5 metric tons prohibited        482         10      0.983          1      0.995      0.971\n",
      " Wild animals crossing        482         12      0.914          1      0.931      0.804\n",
      "                 Yield        482         13      0.922          1      0.995      0.884\n",
      "Results saved to \u001b[1mruns/train/exp\u001b[0m\n"
     ]
    }
   ],
   "source": [
    "%cd {HOME}/yolov9\n",
    "\n",
    "!python train.py \\\n",
    "--batch 16 --epochs 25 --img 640 --device 0 --min-items 0 --close-mosaic 15 \\\n",
    "--data {dataset.location}/data.yaml \\\n",
    "--weights {HOME}/weights/gelan-c.pt \\\n",
    "--cfg models/detect/gelan-c.yaml \\\n",
    "--hyp hyp.scratch-high.yaml"
   ]
  }
 ],
 "metadata": {
  "accelerator": "GPU",
  "colab": {
   "gpuType": "T4",
   "provenance": []
  },
  "kernelspec": {
   "display_name": "Python 3 (ipykernel)",
   "language": "python",
   "name": "python3"
  },
  "language_info": {
   "codemirror_mode": {
    "name": "ipython",
    "version": 3
   },
   "file_extension": ".py",
   "mimetype": "text/x-python",
   "name": "python",
   "nbconvert_exporter": "python",
   "pygments_lexer": "ipython3",
   "version": "3.11.7"
  }
 },
 "nbformat": 4,
 "nbformat_minor": 1
}
